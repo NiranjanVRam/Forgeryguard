{
 "cells": [
  {
   "cell_type": "code",
   "execution_count": 1,
   "metadata": {},
   "outputs": [],
   "source": [
    "from src.simgraph import calc_simgraph\n",
    "import src.spectral_utils as su\n",
    "import src.graph_utils as gu\n",
    "import src.localization as localization\n",
    "\n",
    "import matplotlib.pyplot as plt"
   ]
  },
  {
   "cell_type": "code",
   "execution_count": 2,
   "metadata": {},
   "outputs": [],
   "source": [
    "#For some setups its neccessary to allow tensorflow to allocate gpu memory\n",
    "import tensorflow as tf\n",
    "#physical_devices = tf.config.experimental.list_physical_devices('GPU')\n",
    "#assert len(physical_devices) > 0, \"Not enough GPU hardware devices available\"\n",
    "#tf.config.experimental.set_memory_growth(physical_devices[0], True)\n"
   ]
  },
  {
   "cell_type": "code",
   "execution_count": 3,
   "metadata": {},
   "outputs": [],
   "source": [
    "f1 = './testimages/splicing-01.TIF' #spliced image\n",
    "f2 = './testimages/normal-01.TIF' #authentic image\n",
    "\n",
    "fweights = './models/cam_256/-30' #path to model CNN weights\n",
    "patch_size = 256 #patch size, must match associated weights file\n",
    "overlap = 128 #patch sampling overlap"
   ]
  },
  {
   "cell_type": "code",
   "execution_count": 4,
   "metadata": {},
   "outputs": [
    {
     "name": "stdout",
     "output_type": "stream",
     "text": [
      "WARNING:tensorflow:From c:\\Users\\HP\\Desktop\\main project\\forensic-graph-master\\src\\simgraph.py:221: The name tf.reset_default_graph is deprecated. Please use tf.compat.v1.reset_default_graph instead.\n",
      "\n",
      "WARNING:tensorflow:From c:\\Users\\HP\\Desktop\\main project\\forensic-graph-master\\src\\simgraph.py:223: The name tf.placeholder is deprecated. Please use tf.compat.v1.placeholder instead.\n",
      "\n",
      "WARNING:tensorflow:From c:\\Users\\HP\\Desktop\\main project\\forensic-graph-master\\src\\mislnet_model.py:92: The name tf.variable_scope is deprecated. Please use tf.compat.v1.variable_scope instead.\n",
      "\n",
      "WARNING:tensorflow:From c:\\Users\\HP\\Desktop\\main project\\forensic-graph-master\\src\\mislnet_model.py:10: The name tf.get_variable is deprecated. Please use tf.compat.v1.get_variable instead.\n",
      "\n"
     ]
    },
    {
     "name": "stdout",
     "output_type": "stream",
     "text": [
      "WARNING:tensorflow:\n",
      "The TensorFlow contrib module will not be included in TensorFlow 2.0.\n",
      "For more information, please see:\n",
      "  * https://github.com/tensorflow/community/blob/master/rfcs/20180907-contrib-sunset.md\n",
      "  * https://github.com/tensorflow/addons\n",
      "  * https://github.com/tensorflow/io (for I/O related ops)\n",
      "If you depend on functionality not listed there, please file an issue.\n",
      "\n",
      "WARNING:tensorflow:From c:\\Users\\HP\\Desktop\\main project\\forensic-graph-master\\src\\mislnet_model.py:16: batch_normalization (from tensorflow.python.layers.normalization) is deprecated and will be removed in a future version.\n",
      "Instructions for updating:\n",
      "Use keras.layers.BatchNormalization instead.  In particular, `tf.control_dependencies(tf.GraphKeys.UPDATE_OPS)` should not be used (consult the `tf.keras.layers.batch_normalization` documentation).\n",
      "WARNING:tensorflow:From c:\\Users\\HP\\Desktop\\main project\\forensic-graph-master\\src\\mislnet_model.py:7: The name tf.nn.max_pool is deprecated. Please use tf.nn.max_pool2d instead.\n",
      "\n",
      "WARNING:tensorflow:From c:\\Users\\HP\\Desktop\\main project\\forensic-graph-master\\src\\simgraph.py:231: The name tf.train.Saver is deprecated. Please use tf.compat.v1.train.Saver instead.\n",
      "\n",
      "WARNING:tensorflow:From c:\\Users\\HP\\Desktop\\main project\\forensic-graph-master\\src\\simgraph.py:233: The name tf.Session is deprecated. Please use tf.compat.v1.Session instead.\n",
      "\n",
      "WARNING:tensorflow:From c:\\Users\\HP\\AppData\\Local\\Programs\\Python\\Python36\\lib\\site-packages\\tensorflow\\python\\training\\saver.py:1276: checkpoint_exists (from tensorflow.python.training.checkpoint_management) is deprecated and will be removed in a future version.\n",
      "Instructions for updating:\n",
      "Use standard file APIs to check for files with this prefix.\n",
      "INFO:tensorflow:Restoring parameters from ./models/cam_256/-30\n"
     ]
    },
    {
     "name": "stderr",
     "output_type": "stream",
     "text": [
      "100%|██████████| 165/165 [00:01<00:00, 85.10it/s]\n"
     ]
    },
    {
     "name": "stdout",
     "output_type": "stream",
     "text": [
      "INFO:tensorflow:Restoring parameters from ./models/cam_256/-30\n"
     ]
    },
    {
     "name": "stderr",
     "output_type": "stream",
     "text": [
      "100%|██████████| 165/165 [00:02<00:00, 81.80it/s]\n"
     ]
    }
   ],
   "source": [
    "#compute forensic similarity graphs for both images\n",
    "#see example 0 for what they look like\n",
    "I1 = plt.imread(f1)[:,:,:3]\n",
    "sg1 = calc_simgraph(image = I1,\n",
    "                    f_weights_restore = fweights, patch_size = patch_size,\n",
    "                    overlap = overlap)\n",
    "\n",
    "I2 = plt.imread(f2)[:,:,:3]\n",
    "sg2 = calc_simgraph(image = I2,\n",
    "                    f_weights_restore = fweights, patch_size = patch_size,\n",
    "                    overlap = overlap)"
   ]
  },
  {
   "cell_type": "code",
   "execution_count": 5,
   "metadata": {},
   "outputs": [
    {
     "name": "stdout",
     "output_type": "stream",
     "text": [
      "Spliced: Spectral Gap = 10.49\n",
      "Spliced: Normalized Spectral Gap = 0.4321\n",
      "Spliced: Modularity Value = 0.0293\n"
     ]
    }
   ],
   "source": [
    "## Forgery Detection - spliced image\n",
    "#Low spectral gap (<100, or <0.5 normalized) values are indication of tampering\n",
    "#high modularity values (>0.025) are indication of tampering\n",
    "\n",
    "M = gu.sym_mat(sg1.mat) #symmetric similarity matrix for spliced image\n",
    "\n",
    "L = su.laplacian(M) #laplacian matrix\n",
    "gap = su.eigap01(L) #spectral gap\n",
    "print(f'Spliced: Spectral Gap = {gap:.2f}')\n",
    "\n",
    "normL = su.laplacian(M, laplacian_type='sym') #normalized laplacian matrix\n",
    "normgap = su.eigap01(normL) #normalized spectral gap\n",
    "print(f'Spliced: Normalized Spectral Gap = {normgap:.4f}')\n",
    "\n",
    "g = gu.adj_to_graph(M) #convert to igraph Graph object\n",
    "_, _, mod = gu.cluster_fastgreedy(g,weighted=True) #compute modularity\n",
    "print(f'Spliced: Modularity Value = {mod:.4f}')\n"
   ]
  },
  {
   "cell_type": "code",
   "execution_count": 6,
   "metadata": {},
   "outputs": [
    {
     "name": "stdout",
     "output_type": "stream",
     "text": [
      "Authentic: Spectral Gap = 161.89\n",
      "Authentic: Normalized Spectral Gap = 1.0027\n",
      "Authentic: Modularity Value = 0.0060\n"
     ]
    }
   ],
   "source": [
    "## Forgery Detection - authentic image\n",
    "#Low spectral gap (<100, or <0.5 normalized) values are indication of tampering\n",
    "#high modularity values (>0.025) are indication of tampering\n",
    "\n",
    "M = gu.sym_mat(sg2.mat) #symmetric similarity matrix for spliced image\n",
    "\n",
    "L = su.laplacian(M) #laplacian matrix\n",
    "gap = su.eigap01(L) #spectral gap\n",
    "print(f'Authentic: Spectral Gap = {gap:.2f}')\n",
    "\n",
    "normL = su.laplacian(M, laplacian_type='sym') #normalized laplacian matrix\n",
    "normgap = su.eigap01(normL) #normalized spectral gap\n",
    "print(f'Authentic: Normalized Spectral Gap = {normgap:.4f}')\n",
    "\n",
    "g = gu.adj_to_graph(M) #convert to igraph Graph object\n",
    "_, _, mod = gu.cluster_fastgreedy(g,weighted=True) #compute modularity\n",
    "print(f'Authentic: Modularity Value = {mod:.4f}')"
   ]
  }
 ],
 "metadata": {
  "kernelspec": {
   "display_name": "Python 3",
   "language": "python",
   "name": "python3"
  },
  "language_info": {
   "codemirror_mode": {
    "name": "ipython",
    "version": 3
   },
   "file_extension": ".py",
   "mimetype": "text/x-python",
   "name": "python",
   "nbconvert_exporter": "python",
   "pygments_lexer": "ipython3",
   "version": "3.6.8rc1"
  }
 },
 "nbformat": 4,
 "nbformat_minor": 4
}
